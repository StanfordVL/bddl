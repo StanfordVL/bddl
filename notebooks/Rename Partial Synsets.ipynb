{
 "cells": [
  {
   "cell_type": "code",
   "execution_count": 1,
   "metadata": {},
   "outputs": [
    {
     "name": "stderr",
     "output_type": "stream",
     "text": [
      "Loading BDDL knowledge base... This may take a few seconds.\n",
      "[nltk_data] Downloading package wordnet to /home/cgokmen/nltk_data...\n",
      "[nltk_data]   Package wordnet is already up-to-date!\n"
     ]
    }
   ],
   "source": [
    "from bddl.knowledge_base import *"
   ]
  },
  {
   "cell_type": "code",
   "execution_count": 18,
   "metadata": {},
   "outputs": [
    {
     "name": "stdout",
     "output_type": "stream",
     "text": [
      "6\n",
      "shelf_back_panel-gjsnrt\n",
      "shelf_baseboard-hlhneo\n",
      "shelf_shelf-ymtnqa\n",
      "shelf_side-bxfkjj\n",
      "shelf_side-yujrmw\n",
      "shelf_top-pfiole\n"
     ]
    }
   ],
   "source": [
    "windows = [obj for cat in Category.all_objects() for obj in cat.objects if \"shelf_\" in cat.name]\n",
    "print(len(windows))\n",
    "for w in windows:\n",
    "  print(w.name)"
   ]
  },
  {
   "cell_type": "code",
   "execution_count": 12,
   "metadata": {},
   "outputs": [
    {
     "data": {
      "text/plain": [
       "[Synset(name='candy_dispenser_shelf.n.01'),\n",
       " Synset(name='dry_food_dispenser_shelf.n.01'),\n",
       " Synset(name='shelf.n.01'),\n",
       " Synset(name='shelf_back.n.01'),\n",
       " Synset(name='shelf_baseboard.n.01'),\n",
       " Synset(name='shelf_shelf.n.01'),\n",
       " Synset(name='shelf_side.n.01'),\n",
       " Synset(name='shelf_top.n.01')]"
      ]
     },
     "execution_count": 12,
     "metadata": {},
     "output_type": "execute_result"
    }
   ],
   "source": [
    "[x for x in Synset.all_objects() if \"shelf\" in x.name]"
   ]
  },
  {
   "cell_type": "code",
   "execution_count": 13,
   "metadata": {},
   "outputs": [],
   "source": [
    "from nltk.corpus import wordnet as wn"
   ]
  },
  {
   "cell_type": "code",
   "execution_count": 14,
   "metadata": {},
   "outputs": [
    {
     "data": {
      "text/plain": [
       "'a shelf on which to keep books'"
      ]
     },
     "execution_count": 14,
     "metadata": {},
     "output_type": "execute_result"
    }
   ],
   "source": [
    "wn.synset(\"bookshelf.n.01\").definition()"
   ]
  },
  {
   "cell_type": "code",
   "execution_count": null,
   "metadata": {},
   "outputs": [],
   "source": []
  }
 ],
 "metadata": {
  "kernelspec": {
   "display_name": "omnigibson",
   "language": "python",
   "name": "python3"
  },
  "language_info": {
   "codemirror_mode": {
    "name": "ipython",
    "version": 3
   },
   "file_extension": ".py",
   "mimetype": "text/x-python",
   "name": "python",
   "nbconvert_exporter": "python",
   "pygments_lexer": "ipython3",
   "version": "3.10.14"
  }
 },
 "nbformat": 4,
 "nbformat_minor": 2
}
