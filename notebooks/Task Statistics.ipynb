{
 "cells": [
  {
   "cell_type": "code",
   "execution_count": 1,
   "id": "3957a7a6",
   "metadata": {},
   "outputs": [],
   "source": [
    "hierarchy_dict = {\n",
    "    'food_items': {\n",
    "        \"Fruits\": [],\n",
    "        \"Vegetables\": [],\n",
    "        \"Beverages\": [],\n",
    "        \"Baking Ingredients\": [],\n",
    "        \"Snacks\": [],\n",
    "        \"Condiments & Sauces\": [],\n",
    "        \"Meats\": [],\n",
    "        \"Seafood\": [],\n",
    "        \"Dairy\": [],\n",
    "        \"Grains & Pasta\": [],\n",
    "        \"Herbs & Spices\": [],\n",
    "        \"Sweets\": [],\n",
    "        \"Other Food Items\": []\n",
    "    },\n",
    "    'household_items': {\n",
    "        \"Cleaning Supplies\": [],\n",
    "        \"Kitchenware\": [],\n",
    "        \"Decor\": [],\n",
    "        \"Furniture\": [],\n",
    "        \"Appliances\": [],\n",
    "        \"Other Household Items\": []\n",
    "    },\n",
    "    'tools_hardware': {\n",
    "        \"Hand Tools\": [],\n",
    "        \"Power Tools\": [],\n",
    "        \"Gardening Tools\": [],\n",
    "        \"Hardware\": [],\n",
    "        \"Other Tools & Hardware\": []\n",
    "    },\n",
    "    'electronics': {\n",
    "        \"Computing\": [],\n",
    "        \"Entertainment\": [],\n",
    "        \"Communications\": [],\n",
    "        \"Other Electronics\": []\n",
    "    },\n",
    "    'personal_care_items': {\n",
    "        \"Hygiene\": [],\n",
    "        \"Beauty\": [],\n",
    "        \"Healthcare\": [],\n",
    "        \"Other Personal Care Items\": []\n",
    "    },\n",
    "    'clothing_accessories': {\n",
    "        \"Clothing\": [],\n",
    "        \"Footwear\": [],\n",
    "        \"Accessories\": [],\n",
    "        \"Other Clothing & Accessories\": []\n",
    "    },\n",
    "    'office_supplies': {\n",
    "        \"Writing Instruments\": [],\n",
    "        \"Paper Products\": [],\n",
    "        \"Organizational Supplies\": [],\n",
    "        \"Other Office Supplies\": []\n",
    "    },\n",
    "    'other': {\n",
    "        \"Miscellaneous\": []\n",
    "    }\n",
    "}"
   ]
  },
  {
   "cell_type": "code",
   "execution_count": 2,
   "id": "f2c82e43",
   "metadata": {},
   "outputs": [
    {
     "name": "stderr",
     "output_type": "stream",
     "text": [
      "Loading BDDL knowledge base... This may take a few seconds.\n",
      "[nltk_data] Downloading package wordnet to\n",
      "[nltk_data]     C:\\Users\\cgokmen\\AppData\\Roaming\\nltk_data...\n",
      "[nltk_data]   Package wordnet is already up-to-date!\n"
     ]
    }
   ],
   "source": [
    "from bddl.knowledge_base import *"
   ]
  },
  {
   "cell_type": "code",
   "execution_count": 30,
   "id": "049771c5",
   "metadata": {},
   "outputs": [
    {
     "name": "stdout",
     "output_type": "stream",
     "text": [
      "Food Items:\n",
      "  Fruits\n",
      "  Vegetables\n",
      "  Beverages\n",
      "  Baking Ingredients\n",
      "  Snacks\n",
      "  Condiments & Sauces\n",
      "  Meats\n",
      "  Seafood\n",
      "  Dairy\n",
      "  Grains & Pasta\n",
      "  Herbs & Spices\n",
      "  Sweets\n",
      "  Other Food Items\n",
      "\n",
      "Household Items:\n",
      "  Cleaning Supplies\n",
      "  Kitchenware\n",
      "  Decor\n",
      "  Furniture\n",
      "  Appliances\n",
      "  Other Household Items\n",
      "\n",
      "Tools Hardware:\n",
      "  Hand Tools\n",
      "  Power Tools\n",
      "  Gardening Tools\n",
      "  Hardware\n",
      "  Other Tools & Hardware\n",
      "\n",
      "Electronics:\n",
      "  Computing\n",
      "  Entertainment\n",
      "  Communications\n",
      "  Other Electronics\n",
      "\n",
      "Personal Care Items:\n",
      "  Hygiene\n",
      "  Beauty\n",
      "  Healthcare\n",
      "  Other Personal Care Items\n",
      "\n",
      "Clothing Accessories:\n",
      "  Clothing\n",
      "  Footwear\n",
      "  Accessories\n",
      "  Other Clothing & Accessories\n",
      "\n",
      "Office Supplies:\n",
      "  Writing Instruments\n",
      "  Paper Products\n",
      "  Organizational Supplies\n",
      "  Other Office Supplies\n",
      "\n",
      "Other:\n",
      "  Miscellaneous\n",
      "\n",
      "\n"
     ]
    }
   ],
   "source": [
    "hierarchy = \"\"\n",
    "for high, lows in hierarchy_dict.items():\n",
    "    hierarchy += f\"{high.replace('_', ' ').title()}:\\n\"\n",
    "    for low in lows:\n",
    "        hierarchy += f\"  {low}\\n\"\n",
    "    hierarchy += \"\\n\"\n",
    "print(hierarchy)"
   ]
  },
  {
   "cell_type": "code",
   "execution_count": 18,
   "id": "08e478c9",
   "metadata": {},
   "outputs": [
    {
     "data": {
      "text/plain": [
       "8842"
      ]
     },
     "execution_count": 18,
     "metadata": {},
     "output_type": "execute_result"
    }
   ],
   "source": [
    "len(Object.all_objects())"
   ]
  },
  {
   "cell_type": "code",
   "execution_count": 4,
   "id": "63b1afde",
   "metadata": {},
   "outputs": [],
   "source": [
    "all_categories = [c for c in Category.all_objects() if len(c.objects) > 0]\n",
    "def category_str(cats):\n",
    "    categories = \"\"\n",
    "    for c in cats:\n",
    "        categories += f\"{c.name.replace('_', ' ').title()}: {len(c.objects)}\\n\"\n",
    "    return categories"
   ]
  },
  {
   "cell_type": "code",
   "execution_count": 5,
   "id": "dfff914b",
   "metadata": {},
   "outputs": [],
   "source": [
    "task_msg = lambda cx: f\"\"\"\n",
    "I have a dataset of objects that I am releasing for research purposes. I am giving you a list of categories of objects that\n",
    "are included in the dataset below as well as the number of objects in each category. I need to make a plot out of these that\n",
    "shows the diversity of the dataset by highlighting the different kinds of objects we have in our dataset. I think a great way\n",
    "of doing this could be a sankey plot with multiple levels. To do that, I need to create a hierarchy of these categories. I can\n",
    "group some of the important stuff at a high level (\"food\", \"furniture\", \"structure\", etc.) and then go into more detail at the\n",
    "lower levels. We can group the less frequently seen objects into \"other\" groups. I have made a hierarchy that you can see below:\n",
    "\n",
    "{hierarchy}\n",
    "\n",
    "Now I need to assign each of the object categories below to one of the hierarchy nodes. Here are the object categories and their\n",
    "object counts:\n",
    "\n",
    "{cx}\n",
    "\"\"\""
   ]
  },
  {
   "cell_type": "code",
   "execution_count": 6,
   "id": "6ca03328",
   "metadata": {},
   "outputs": [],
   "source": [
    "def query(high, low):\n",
    "    return f\"Now, tell me what categories should go in the {high.replace('_', ' ').title()} -> {low} node of the hierarchy as a JSON list. Return the JSON wrapped in three ticks (```). The list elements you return must match the elements from the above category list exactly. Don't say anything else.\""
   ]
  },
  {
   "cell_type": "code",
   "execution_count": 39,
   "id": "569c1b27",
   "metadata": {},
   "outputs": [
    {
     "name": "stdout",
     "output_type": "stream",
     "text": [
      "········\n"
     ]
    }
   ],
   "source": [
    "from openai import OpenAI\n",
    "import getpass\n",
    "apikey = getpass.getpass()\n",
    "client = OpenAI(api_key=apikey)"
   ]
  },
  {
   "cell_type": "code",
   "execution_count": 38,
   "id": "78fd0553",
   "metadata": {},
   "outputs": [],
   "source": [
    "def assignment_fixer(x):\n",
    "    return x.split(\"/\")[-1].split(\":\")[-1].split(\".\")[-1]"
   ]
  },
  {
   "cell_type": "code",
   "execution_count": null,
   "id": "c18cb6fd",
   "metadata": {},
   "outputs": [],
   "source": [
    "assignments = {}"
   ]
  },
  {
   "cell_type": "code",
   "execution_count": 49,
   "id": "b30a8a63",
   "metadata": {},
   "outputs": [
    {
     "name": "stdout",
     "output_type": "stream",
     "text": [
      "Remaining: 139\n",
      "Remaining: 73\n",
      "Remaining: 15\n",
      "Remaining: 3\n",
      "Remaining: 3\n"
     ]
    }
   ],
   "source": [
    "import json\n",
    "all_category_names = [c.name for c in all_categories]\n",
    "available_lows = list(low for lows in hierarchy_dict.values() for low in lows)\n",
    "if True:\n",
    "    with open(\"assignments.json\", \"r\") as f:\n",
    "        assignments = {k: assignment_fixer(v) for k, v in json.load(f).items()}\n",
    "if True:  # set to True to regenerate assignments\n",
    "    batch_size = 100\n",
    "    while True:\n",
    "        # Clear out any assignments that are invalid\n",
    "        assignments = {k: v for k, v in assignments.items() if v in available_lows}\n",
    "        remaining = set(all_category_names) - set(assignments.keys())\n",
    "        if not remaining:\n",
    "            break\n",
    "        print(\"Remaining:\", len(remaining))\n",
    "        batch_cats = sorted(remaining)[:batch_size]\n",
    "        batch_cats_str = \"\\n\".join(batch_cats)\n",
    "        batch_task_msg = task_msg(batch_cats_str)\n",
    "        response = client.chat.completions.create(\n",
    "          model=\"gpt-4-1106-preview\",\n",
    "          response_format={ \"type\": \"json_object\" },\n",
    "          messages=[\n",
    "            {\"role\": \"system\", \"content\": \"You are a helpful assistant.\"},\n",
    "            {\"role\": \"user\", \"content\": batch_task_msg},\n",
    "            {\"role\": \"user\", \"content\": (\n",
    "                 \"Now, in JSON format, tell me the hierarchical node assignment for each of the categories. \"\n",
    "                 \"For example, 'chicken_breast': 'Meats'. You need to give an assignment for each of the categories \"\n",
    "                 \"listed above - do NOT skip over any or give summarized answers like 'so on', etc. and only output \"\n",
    "                 \"the lower assignment node (e.g. 'Meats', not 'Food Items' or 'Food Items / Meats'). Make sure each \"\n",
    "                 \"category you output is one of the items in the above list of subcategories - do NOT make up new \"\n",
    "                 \"hierarchy nodes. If you think an object does not fall into any particular node, put it to one of the \"\n",
    "                 \"Other XYZ nodes or in the Miscellaneous node. For example, put generic office supplies into Other \"\n",
    "                 \"Office Supplies, or put baked goods into Other Food Items, or potted plants into Decor.\"\n",
    "            )},\n",
    "          ]\n",
    "        )\n",
    "        assignments.update({k: assignment_fixer(v) for k, v in json.loads(response.choices[0].message.content).items() if k in all_category_names})\n",
    "    # Dump the assignments\n",
    "    with open(\"assignments.json\", \"w\") as f:\n",
    "        json.dump(assignments, f)"
   ]
  },
  {
   "cell_type": "code",
   "execution_count": 50,
   "id": "5e373d28",
   "metadata": {},
   "outputs": [
    {
     "data": {
      "text/plain": [
       "{}"
      ]
     },
     "execution_count": 50,
     "metadata": {},
     "output_type": "execute_result"
    }
   ],
   "source": [
    "{k: assignment_fixer(v) for k, v in json.loads(response.choices[0].message.content).items() if k in all_category_names and k not in assignments}"
   ]
  },
  {
   "cell_type": "code",
   "execution_count": 51,
   "id": "42538b64",
   "metadata": {},
   "outputs": [
    {
     "name": "stdout",
     "output_type": "stream",
     "text": [
      "Cats missing assignment set()\n",
      "Assignments that are invalid set()\n"
     ]
    }
   ],
   "source": [
    "found_assignments = set(assignments.keys())\n",
    "print(\"Cats missing assignment\", found_assignments - set(all_category_names))\n",
    "print(\"Assignments that are invalid\", set(all_category_names) - found_assignments)"
   ]
  },
  {
   "cell_type": "code",
   "execution_count": 52,
   "id": "f255d423",
   "metadata": {},
   "outputs": [
    {
     "name": "stdout",
     "output_type": "stream",
     "text": [
      "1734\n"
     ]
    }
   ],
   "source": [
    "assert len(assignments) == len(all_category_names)\n",
    "print(len(assignments))"
   ]
  },
  {
   "cell_type": "code",
   "execution_count": 53,
   "id": "a3148252",
   "metadata": {},
   "outputs": [
    {
     "data": {
      "text/plain": [
       "8842"
      ]
     },
     "execution_count": 53,
     "metadata": {},
     "output_type": "execute_result"
    }
   ],
   "source": [
    "sum(len(Category.get(c).objects) for c in assignments)"
   ]
  },
  {
   "cell_type": "code",
   "execution_count": 54,
   "id": "1908d94c",
   "metadata": {},
   "outputs": [
    {
     "name": "stdout",
     "output_type": "stream",
     "text": [
      "['Fruits', 'Vegetables', 'Beverages', 'Baking Ingredients', 'Snacks', 'Condiments & Sauces', 'Meats', 'Seafood', 'Dairy', 'Grains & Pasta', 'Herbs & Spices', 'Sweets', 'Other Food Items', 'Cleaning Supplies', 'Kitchenware', 'Decor', 'Furniture', 'Appliances', 'Other Household Items', 'Hand Tools', 'Power Tools', 'Gardening Tools', 'Hardware', 'Other Tools & Hardware', 'Computing', 'Entertainment', 'Communications', 'Other Electronics', 'Hygiene', 'Beauty', 'Healthcare', 'Other Personal Care Items', 'Clothing', 'Footwear', 'Accessories', 'Other Clothing & Accessories', 'Writing Instruments', 'Paper Products', 'Organizational Supplies', 'Other Office Supplies', 'Miscellaneous']\n"
     ]
    }
   ],
   "source": [
    "import collections\n",
    "\n",
    "found_lows = set(assignment_fixer(x) for x in assignments.values())\n",
    "available_lows = list(low for lows in hierarchy_dict.values() for low in lows)\n",
    "repeated_lows = {x for x, v in collections.Counter(available_lows).items() if v > 1}\n",
    "available_lows_set = set(available_lows)\n",
    "assert not repeated_lows, repeated_lows\n",
    "\n",
    "unknown_lows = found_lows - available_lows_set\n",
    "assert not unknown_lows, unknown_lows"
   ]
  },
  {
   "cell_type": "code",
   "execution_count": 61,
   "id": "75419617",
   "metadata": {},
   "outputs": [],
   "source": [
    "IGNORE_CATEGORIES = {\"walls\", \"floors\", \"ceilings\", \"driveway\", \"lawn\", \"roof\"}\n",
    "hierarchylow = []\n",
    "for high, lows in hierarchy_dict.items():\n",
    "    for low in lows:\n",
    "        objs = sum(len(c.objects) for c in all_categories if assignments[c.name] == low and c.name not in IGNORE_CATEGORIES)\n",
    "        hierarchylow.append((high, low, objs))"
   ]
  },
  {
   "cell_type": "code",
   "execution_count": 62,
   "id": "e88ebf8e",
   "metadata": {},
   "outputs": [
    {
     "data": {
      "text/plain": [
       "[('food_items', 'Fruits', 138),\n",
       " ('food_items', 'Vegetables', 183),\n",
       " ('food_items', 'Beverages', 281),\n",
       " ('food_items', 'Baking Ingredients', 95),\n",
       " ('food_items', 'Snacks', 95),\n",
       " ('food_items', 'Condiments & Sauces', 81),\n",
       " ('food_items', 'Meats', 79),\n",
       " ('food_items', 'Seafood', 22),\n",
       " ('food_items', 'Dairy', 66),\n",
       " ('food_items', 'Grains & Pasta', 78),\n",
       " ('food_items', 'Herbs & Spices', 120),\n",
       " ('food_items', 'Sweets', 100),\n",
       " ('food_items', 'Other Food Items', 172),\n",
       " ('household_items', 'Cleaning Supplies', 76),\n",
       " ('household_items', 'Kitchenware', 559),\n",
       " ('household_items', 'Decor', 701),\n",
       " ('household_items', 'Furniture', 1026),\n",
       " ('household_items', 'Appliances', 182),\n",
       " ('household_items', 'Other Household Items', 373),\n",
       " ('tools_hardware', 'Hand Tools', 19),\n",
       " ('tools_hardware', 'Power Tools', 6),\n",
       " ('tools_hardware', 'Gardening Tools', 33),\n",
       " ('tools_hardware', 'Hardware', 30),\n",
       " ('tools_hardware', 'Other Tools & Hardware', 93),\n",
       " ('electronics', 'Computing', 52),\n",
       " ('electronics', 'Entertainment', 90),\n",
       " ('electronics', 'Communications', 11),\n",
       " ('electronics', 'Other Electronics', 118),\n",
       " ('personal_care_items', 'Hygiene', 62),\n",
       " ('personal_care_items', 'Beauty', 16),\n",
       " ('personal_care_items', 'Healthcare', 49),\n",
       " ('personal_care_items', 'Other Personal Care Items', 26),\n",
       " ('clothing_accessories', 'Clothing', 48),\n",
       " ('clothing_accessories', 'Footwear', 47),\n",
       " ('clothing_accessories', 'Accessories', 95),\n",
       " ('clothing_accessories', 'Other Clothing & Accessories', 12),\n",
       " ('office_supplies', 'Writing Instruments', 150),\n",
       " ('office_supplies', 'Paper Products', 102),\n",
       " ('office_supplies', 'Organizational Supplies', 54),\n",
       " ('office_supplies', 'Other Office Supplies', 181),\n",
       " ('other', 'Miscellaneous', 964)]"
      ]
     },
     "execution_count": 62,
     "metadata": {},
     "output_type": "execute_result"
    }
   ],
   "source": [
    "hierarchylow"
   ]
  },
  {
   "cell_type": "code",
   "execution_count": 63,
   "id": "e64fd2c3",
   "metadata": {},
   "outputs": [
    {
     "data": {
      "text/plain": [
       "6685"
      ]
     },
     "execution_count": 63,
     "metadata": {},
     "output_type": "execute_result"
    }
   ],
   "source": [
    "sum(x[2] for x in hierarchylow)"
   ]
  },
  {
   "cell_type": "code",
   "execution_count": 64,
   "id": "b8809252",
   "metadata": {},
   "outputs": [
    {
     "name": "stdout",
     "output_type": "stream",
     "text": [
      "[('objects', 'food_items', 1510), ('objects', 'household_items', 2917), ('objects', 'tools_hardware', 181), ('objects', 'electronics', 271), ('objects', 'personal_care_items', 153), ('objects', 'clothing_accessories', 202), ('objects', 'office_supplies', 487), ('objects', 'other', 964)]\n"
     ]
    }
   ],
   "source": [
    "hierarchyhigh = [(\"objects\", high, sum(v[2] for v in hierarchylow if v[0] == high)) for high in hierarchy_dict.keys()]\n",
    "print(hierarchyhigh)"
   ]
  },
  {
   "cell_type": "code",
   "execution_count": 65,
   "id": "960f8bce",
   "metadata": {},
   "outputs": [],
   "source": [
    "fullhierarchy = hierarchylow + hierarchyhigh"
   ]
  },
  {
   "cell_type": "code",
   "execution_count": 75,
   "id": "3dbc3bb3",
   "metadata": {},
   "outputs": [],
   "source": [
    "hr_hier = {\n",
    "    'food_items': \"Food Items\",\n",
    "    'household_items': \"Household Items\",\n",
    "    'tools_hardware': \"Tools & Hardware\",\n",
    "    'electronics': \"Electronics\",\n",
    "    'personal_care_items': \"Personal Care Items\",\n",
    "    'clothing_accessories': \"Clothing & Accessories\",\n",
    "    'office_supplies': \"Office Supplies\",\n",
    "    'other': \"Other\"\n",
    "}"
   ]
  },
  {
   "cell_type": "code",
   "execution_count": 91,
   "id": "857e99d4",
   "metadata": {},
   "outputs": [
    {
     "name": "stdout",
     "output_type": "stream",
     "text": [
      "Food Items,1510\n",
      "Household Items,2917\n",
      "Tools & Hardware,181\n",
      "Electronics,271\n",
      "Personal Care Items,153\n",
      "Clothing & Accessories,202\n",
      "Office Supplies,487\n",
      "Other,964\n"
     ]
    }
   ],
   "source": [
    "print(\"\\n\".join(hr_hier[x[1]] + \",\" + str(x[2]) for x in hierarchyhigh))"
   ]
  },
  {
   "cell_type": "code",
   "execution_count": 67,
   "id": "8eb7a9a0",
   "metadata": {},
   "outputs": [
    {
     "data": {
      "application/vnd.plotly.v1+json": {
       "config": {
        "plotlyServerURL": "https://plot.ly"
       },
       "data": [
        {
         "labels": [
          "Fruits",
          "Vegetables",
          "Beverages",
          "Baking Ingredients",
          "Snacks",
          "Condiments & Sauces",
          "Meats",
          "Seafood",
          "Dairy",
          "Grains & Pasta",
          "Herbs & Spices",
          "Sweets",
          "Cleaning Supplies",
          "Kitchenware",
          "Decor",
          "Furniture",
          "Appliances",
          "Hand Tools",
          "Power Tools",
          "Gardening Tools",
          "Hardware",
          "Computing",
          "Entertainment",
          "Communications",
          "Hygiene",
          "Beauty",
          "Healthcare",
          "Clothing",
          "Footwear",
          "Accessories",
          "Writing Instruments",
          "Paper Products",
          "Organizational Supplies",
          "Food Items",
          "Household Items",
          "Tools Hardware",
          "Electronics",
          "Personal Care Items",
          "Clothing Accessories",
          "Office Supplies",
          "Other"
         ],
         "parents": [
          "Food Items",
          "Food Items",
          "Food Items",
          "Food Items",
          "Food Items",
          "Food Items",
          "Food Items",
          "Food Items",
          "Food Items",
          "Food Items",
          "Food Items",
          "Food Items",
          "Household Items",
          "Household Items",
          "Household Items",
          "Household Items",
          "Household Items",
          "Tools Hardware",
          "Tools Hardware",
          "Tools Hardware",
          "Tools Hardware",
          "Electronics",
          "Electronics",
          "Electronics",
          "Personal Care Items",
          "Personal Care Items",
          "Personal Care Items",
          "Clothing Accessories",
          "Clothing Accessories",
          "Clothing Accessories",
          "Office Supplies",
          "Office Supplies",
          "Office Supplies",
          "",
          "",
          "",
          "",
          "",
          "",
          "",
          ""
         ],
         "type": "sunburst",
         "values": [
          138,
          183,
          281,
          95,
          95,
          81,
          79,
          22,
          66,
          78,
          120,
          100,
          76,
          559,
          701,
          1026,
          182,
          19,
          6,
          33,
          30,
          52,
          90,
          11,
          62,
          16,
          49,
          48,
          47,
          95,
          150,
          102,
          54,
          172,
          373,
          93,
          118,
          26,
          12,
          181,
          964
         ]
        }
       ],
       "layout": {
        "autosize": false,
        "height": 1000,
        "margin": {
         "b": 0,
         "l": 0,
         "r": 0,
         "t": 0
        },
        "template": {
         "data": {
          "bar": [
           {
            "error_x": {
             "color": "#2a3f5f"
            },
            "error_y": {
             "color": "#2a3f5f"
            },
            "marker": {
             "line": {
              "color": "#E5ECF6",
              "width": 0.5
             },
             "pattern": {
              "fillmode": "overlay",
              "size": 10,
              "solidity": 0.2
             }
            },
            "type": "bar"
           }
          ],
          "barpolar": [
           {
            "marker": {
             "line": {
              "color": "#E5ECF6",
              "width": 0.5
             },
             "pattern": {
              "fillmode": "overlay",
              "size": 10,
              "solidity": 0.2
             }
            },
            "type": "barpolar"
           }
          ],
          "carpet": [
           {
            "aaxis": {
             "endlinecolor": "#2a3f5f",
             "gridcolor": "white",
             "linecolor": "white",
             "minorgridcolor": "white",
             "startlinecolor": "#2a3f5f"
            },
            "baxis": {
             "endlinecolor": "#2a3f5f",
             "gridcolor": "white",
             "linecolor": "white",
             "minorgridcolor": "white",
             "startlinecolor": "#2a3f5f"
            },
            "type": "carpet"
           }
          ],
          "choropleth": [
           {
            "colorbar": {
             "outlinewidth": 0,
             "ticks": ""
            },
            "type": "choropleth"
           }
          ],
          "contour": [
           {
            "colorbar": {
             "outlinewidth": 0,
             "ticks": ""
            },
            "colorscale": [
             [
              0,
              "#0d0887"
             ],
             [
              0.1111111111111111,
              "#46039f"
             ],
             [
              0.2222222222222222,
              "#7201a8"
             ],
             [
              0.3333333333333333,
              "#9c179e"
             ],
             [
              0.4444444444444444,
              "#bd3786"
             ],
             [
              0.5555555555555556,
              "#d8576b"
             ],
             [
              0.6666666666666666,
              "#ed7953"
             ],
             [
              0.7777777777777778,
              "#fb9f3a"
             ],
             [
              0.8888888888888888,
              "#fdca26"
             ],
             [
              1,
              "#f0f921"
             ]
            ],
            "type": "contour"
           }
          ],
          "contourcarpet": [
           {
            "colorbar": {
             "outlinewidth": 0,
             "ticks": ""
            },
            "type": "contourcarpet"
           }
          ],
          "heatmap": [
           {
            "colorbar": {
             "outlinewidth": 0,
             "ticks": ""
            },
            "colorscale": [
             [
              0,
              "#0d0887"
             ],
             [
              0.1111111111111111,
              "#46039f"
             ],
             [
              0.2222222222222222,
              "#7201a8"
             ],
             [
              0.3333333333333333,
              "#9c179e"
             ],
             [
              0.4444444444444444,
              "#bd3786"
             ],
             [
              0.5555555555555556,
              "#d8576b"
             ],
             [
              0.6666666666666666,
              "#ed7953"
             ],
             [
              0.7777777777777778,
              "#fb9f3a"
             ],
             [
              0.8888888888888888,
              "#fdca26"
             ],
             [
              1,
              "#f0f921"
             ]
            ],
            "type": "heatmap"
           }
          ],
          "heatmapgl": [
           {
            "colorbar": {
             "outlinewidth": 0,
             "ticks": ""
            },
            "colorscale": [
             [
              0,
              "#0d0887"
             ],
             [
              0.1111111111111111,
              "#46039f"
             ],
             [
              0.2222222222222222,
              "#7201a8"
             ],
             [
              0.3333333333333333,
              "#9c179e"
             ],
             [
              0.4444444444444444,
              "#bd3786"
             ],
             [
              0.5555555555555556,
              "#d8576b"
             ],
             [
              0.6666666666666666,
              "#ed7953"
             ],
             [
              0.7777777777777778,
              "#fb9f3a"
             ],
             [
              0.8888888888888888,
              "#fdca26"
             ],
             [
              1,
              "#f0f921"
             ]
            ],
            "type": "heatmapgl"
           }
          ],
          "histogram": [
           {
            "marker": {
             "pattern": {
              "fillmode": "overlay",
              "size": 10,
              "solidity": 0.2
             }
            },
            "type": "histogram"
           }
          ],
          "histogram2d": [
           {
            "colorbar": {
             "outlinewidth": 0,
             "ticks": ""
            },
            "colorscale": [
             [
              0,
              "#0d0887"
             ],
             [
              0.1111111111111111,
              "#46039f"
             ],
             [
              0.2222222222222222,
              "#7201a8"
             ],
             [
              0.3333333333333333,
              "#9c179e"
             ],
             [
              0.4444444444444444,
              "#bd3786"
             ],
             [
              0.5555555555555556,
              "#d8576b"
             ],
             [
              0.6666666666666666,
              "#ed7953"
             ],
             [
              0.7777777777777778,
              "#fb9f3a"
             ],
             [
              0.8888888888888888,
              "#fdca26"
             ],
             [
              1,
              "#f0f921"
             ]
            ],
            "type": "histogram2d"
           }
          ],
          "histogram2dcontour": [
           {
            "colorbar": {
             "outlinewidth": 0,
             "ticks": ""
            },
            "colorscale": [
             [
              0,
              "#0d0887"
             ],
             [
              0.1111111111111111,
              "#46039f"
             ],
             [
              0.2222222222222222,
              "#7201a8"
             ],
             [
              0.3333333333333333,
              "#9c179e"
             ],
             [
              0.4444444444444444,
              "#bd3786"
             ],
             [
              0.5555555555555556,
              "#d8576b"
             ],
             [
              0.6666666666666666,
              "#ed7953"
             ],
             [
              0.7777777777777778,
              "#fb9f3a"
             ],
             [
              0.8888888888888888,
              "#fdca26"
             ],
             [
              1,
              "#f0f921"
             ]
            ],
            "type": "histogram2dcontour"
           }
          ],
          "mesh3d": [
           {
            "colorbar": {
             "outlinewidth": 0,
             "ticks": ""
            },
            "type": "mesh3d"
           }
          ],
          "parcoords": [
           {
            "line": {
             "colorbar": {
              "outlinewidth": 0,
              "ticks": ""
             }
            },
            "type": "parcoords"
           }
          ],
          "pie": [
           {
            "automargin": true,
            "type": "pie"
           }
          ],
          "scatter": [
           {
            "fillpattern": {
             "fillmode": "overlay",
             "size": 10,
             "solidity": 0.2
            },
            "type": "scatter"
           }
          ],
          "scatter3d": [
           {
            "line": {
             "colorbar": {
              "outlinewidth": 0,
              "ticks": ""
             }
            },
            "marker": {
             "colorbar": {
              "outlinewidth": 0,
              "ticks": ""
             }
            },
            "type": "scatter3d"
           }
          ],
          "scattercarpet": [
           {
            "marker": {
             "colorbar": {
              "outlinewidth": 0,
              "ticks": ""
             }
            },
            "type": "scattercarpet"
           }
          ],
          "scattergeo": [
           {
            "marker": {
             "colorbar": {
              "outlinewidth": 0,
              "ticks": ""
             }
            },
            "type": "scattergeo"
           }
          ],
          "scattergl": [
           {
            "marker": {
             "colorbar": {
              "outlinewidth": 0,
              "ticks": ""
             }
            },
            "type": "scattergl"
           }
          ],
          "scattermapbox": [
           {
            "marker": {
             "colorbar": {
              "outlinewidth": 0,
              "ticks": ""
             }
            },
            "type": "scattermapbox"
           }
          ],
          "scatterpolar": [
           {
            "marker": {
             "colorbar": {
              "outlinewidth": 0,
              "ticks": ""
             }
            },
            "type": "scatterpolar"
           }
          ],
          "scatterpolargl": [
           {
            "marker": {
             "colorbar": {
              "outlinewidth": 0,
              "ticks": ""
             }
            },
            "type": "scatterpolargl"
           }
          ],
          "scatterternary": [
           {
            "marker": {
             "colorbar": {
              "outlinewidth": 0,
              "ticks": ""
             }
            },
            "type": "scatterternary"
           }
          ],
          "surface": [
           {
            "colorbar": {
             "outlinewidth": 0,
             "ticks": ""
            },
            "colorscale": [
             [
              0,
              "#0d0887"
             ],
             [
              0.1111111111111111,
              "#46039f"
             ],
             [
              0.2222222222222222,
              "#7201a8"
             ],
             [
              0.3333333333333333,
              "#9c179e"
             ],
             [
              0.4444444444444444,
              "#bd3786"
             ],
             [
              0.5555555555555556,
              "#d8576b"
             ],
             [
              0.6666666666666666,
              "#ed7953"
             ],
             [
              0.7777777777777778,
              "#fb9f3a"
             ],
             [
              0.8888888888888888,
              "#fdca26"
             ],
             [
              1,
              "#f0f921"
             ]
            ],
            "type": "surface"
           }
          ],
          "table": [
           {
            "cells": {
             "fill": {
              "color": "#EBF0F8"
             },
             "line": {
              "color": "white"
             }
            },
            "header": {
             "fill": {
              "color": "#C8D4E3"
             },
             "line": {
              "color": "white"
             }
            },
            "type": "table"
           }
          ]
         },
         "layout": {
          "annotationdefaults": {
           "arrowcolor": "#2a3f5f",
           "arrowhead": 0,
           "arrowwidth": 1
          },
          "autotypenumbers": "strict",
          "coloraxis": {
           "colorbar": {
            "outlinewidth": 0,
            "ticks": ""
           }
          },
          "colorscale": {
           "diverging": [
            [
             0,
             "#8e0152"
            ],
            [
             0.1,
             "#c51b7d"
            ],
            [
             0.2,
             "#de77ae"
            ],
            [
             0.3,
             "#f1b6da"
            ],
            [
             0.4,
             "#fde0ef"
            ],
            [
             0.5,
             "#f7f7f7"
            ],
            [
             0.6,
             "#e6f5d0"
            ],
            [
             0.7,
             "#b8e186"
            ],
            [
             0.8,
             "#7fbc41"
            ],
            [
             0.9,
             "#4d9221"
            ],
            [
             1,
             "#276419"
            ]
           ],
           "sequential": [
            [
             0,
             "#0d0887"
            ],
            [
             0.1111111111111111,
             "#46039f"
            ],
            [
             0.2222222222222222,
             "#7201a8"
            ],
            [
             0.3333333333333333,
             "#9c179e"
            ],
            [
             0.4444444444444444,
             "#bd3786"
            ],
            [
             0.5555555555555556,
             "#d8576b"
            ],
            [
             0.6666666666666666,
             "#ed7953"
            ],
            [
             0.7777777777777778,
             "#fb9f3a"
            ],
            [
             0.8888888888888888,
             "#fdca26"
            ],
            [
             1,
             "#f0f921"
            ]
           ],
           "sequentialminus": [
            [
             0,
             "#0d0887"
            ],
            [
             0.1111111111111111,
             "#46039f"
            ],
            [
             0.2222222222222222,
             "#7201a8"
            ],
            [
             0.3333333333333333,
             "#9c179e"
            ],
            [
             0.4444444444444444,
             "#bd3786"
            ],
            [
             0.5555555555555556,
             "#d8576b"
            ],
            [
             0.6666666666666666,
             "#ed7953"
            ],
            [
             0.7777777777777778,
             "#fb9f3a"
            ],
            [
             0.8888888888888888,
             "#fdca26"
            ],
            [
             1,
             "#f0f921"
            ]
           ]
          },
          "colorway": [
           "#636efa",
           "#EF553B",
           "#00cc96",
           "#ab63fa",
           "#FFA15A",
           "#19d3f3",
           "#FF6692",
           "#B6E880",
           "#FF97FF",
           "#FECB52"
          ],
          "font": {
           "color": "#2a3f5f"
          },
          "geo": {
           "bgcolor": "white",
           "lakecolor": "white",
           "landcolor": "#E5ECF6",
           "showlakes": true,
           "showland": true,
           "subunitcolor": "white"
          },
          "hoverlabel": {
           "align": "left"
          },
          "hovermode": "closest",
          "mapbox": {
           "style": "light"
          },
          "paper_bgcolor": "white",
          "plot_bgcolor": "#E5ECF6",
          "polar": {
           "angularaxis": {
            "gridcolor": "white",
            "linecolor": "white",
            "ticks": ""
           },
           "bgcolor": "#E5ECF6",
           "radialaxis": {
            "gridcolor": "white",
            "linecolor": "white",
            "ticks": ""
           }
          },
          "scene": {
           "xaxis": {
            "backgroundcolor": "#E5ECF6",
            "gridcolor": "white",
            "gridwidth": 2,
            "linecolor": "white",
            "showbackground": true,
            "ticks": "",
            "zerolinecolor": "white"
           },
           "yaxis": {
            "backgroundcolor": "#E5ECF6",
            "gridcolor": "white",
            "gridwidth": 2,
            "linecolor": "white",
            "showbackground": true,
            "ticks": "",
            "zerolinecolor": "white"
           },
           "zaxis": {
            "backgroundcolor": "#E5ECF6",
            "gridcolor": "white",
            "gridwidth": 2,
            "linecolor": "white",
            "showbackground": true,
            "ticks": "",
            "zerolinecolor": "white"
           }
          },
          "shapedefaults": {
           "line": {
            "color": "#2a3f5f"
           }
          },
          "ternary": {
           "aaxis": {
            "gridcolor": "white",
            "linecolor": "white",
            "ticks": ""
           },
           "baxis": {
            "gridcolor": "white",
            "linecolor": "white",
            "ticks": ""
           },
           "bgcolor": "#E5ECF6",
           "caxis": {
            "gridcolor": "white",
            "linecolor": "white",
            "ticks": ""
           }
          },
          "title": {
           "x": 0.05
          },
          "xaxis": {
           "automargin": true,
           "gridcolor": "white",
           "linecolor": "white",
           "ticks": "",
           "title": {
            "standoff": 15
           },
           "zerolinecolor": "white",
           "zerolinewidth": 2
          },
          "yaxis": {
           "automargin": true,
           "gridcolor": "white",
           "linecolor": "white",
           "ticks": "",
           "title": {
            "standoff": 15
           },
           "zerolinecolor": "white",
           "zerolinewidth": 2
          }
         }
        },
        "width": 800
       }
      },
      "text/html": [
       "<div>                            <div id=\"8cf9eca8-0c3d-462a-9224-d6b8cd6df8c3\" class=\"plotly-graph-div\" style=\"height:1000px; width:800px;\"></div>            <script type=\"text/javascript\">                require([\"plotly\"], function(Plotly) {                    window.PLOTLYENV=window.PLOTLYENV || {};                                    if (document.getElementById(\"8cf9eca8-0c3d-462a-9224-d6b8cd6df8c3\")) {                    Plotly.newPlot(                        \"8cf9eca8-0c3d-462a-9224-d6b8cd6df8c3\",                        [{\"labels\":[\"Fruits\",\"Vegetables\",\"Beverages\",\"Baking Ingredients\",\"Snacks\",\"Condiments & Sauces\",\"Meats\",\"Seafood\",\"Dairy\",\"Grains & Pasta\",\"Herbs & Spices\",\"Sweets\",\"Cleaning Supplies\",\"Kitchenware\",\"Decor\",\"Furniture\",\"Appliances\",\"Hand Tools\",\"Power Tools\",\"Gardening Tools\",\"Hardware\",\"Computing\",\"Entertainment\",\"Communications\",\"Hygiene\",\"Beauty\",\"Healthcare\",\"Clothing\",\"Footwear\",\"Accessories\",\"Writing Instruments\",\"Paper Products\",\"Organizational Supplies\",\"Food Items\",\"Household Items\",\"Tools Hardware\",\"Electronics\",\"Personal Care Items\",\"Clothing Accessories\",\"Office Supplies\",\"Other\"],\"parents\":[\"Food Items\",\"Food Items\",\"Food Items\",\"Food Items\",\"Food Items\",\"Food Items\",\"Food Items\",\"Food Items\",\"Food Items\",\"Food Items\",\"Food Items\",\"Food Items\",\"Household Items\",\"Household Items\",\"Household Items\",\"Household Items\",\"Household Items\",\"Tools Hardware\",\"Tools Hardware\",\"Tools Hardware\",\"Tools Hardware\",\"Electronics\",\"Electronics\",\"Electronics\",\"Personal Care Items\",\"Personal Care Items\",\"Personal Care Items\",\"Clothing Accessories\",\"Clothing Accessories\",\"Clothing Accessories\",\"Office Supplies\",\"Office Supplies\",\"Office Supplies\",\"\",\"\",\"\",\"\",\"\",\"\",\"\",\"\"],\"values\":[138,183,281,95,95,81,79,22,66,78,120,100,76,559,701,1026,182,19,6,33,30,52,90,11,62,16,49,48,47,95,150,102,54,172,373,93,118,26,12,181,964],\"type\":\"sunburst\"}],                        {\"template\":{\"data\":{\"histogram2dcontour\":[{\"type\":\"histogram2dcontour\",\"colorbar\":{\"outlinewidth\":0,\"ticks\":\"\"},\"colorscale\":[[0.0,\"#0d0887\"],[0.1111111111111111,\"#46039f\"],[0.2222222222222222,\"#7201a8\"],[0.3333333333333333,\"#9c179e\"],[0.4444444444444444,\"#bd3786\"],[0.5555555555555556,\"#d8576b\"],[0.6666666666666666,\"#ed7953\"],[0.7777777777777778,\"#fb9f3a\"],[0.8888888888888888,\"#fdca26\"],[1.0,\"#f0f921\"]]}],\"choropleth\":[{\"type\":\"choropleth\",\"colorbar\":{\"outlinewidth\":0,\"ticks\":\"\"}}],\"histogram2d\":[{\"type\":\"histogram2d\",\"colorbar\":{\"outlinewidth\":0,\"ticks\":\"\"},\"colorscale\":[[0.0,\"#0d0887\"],[0.1111111111111111,\"#46039f\"],[0.2222222222222222,\"#7201a8\"],[0.3333333333333333,\"#9c179e\"],[0.4444444444444444,\"#bd3786\"],[0.5555555555555556,\"#d8576b\"],[0.6666666666666666,\"#ed7953\"],[0.7777777777777778,\"#fb9f3a\"],[0.8888888888888888,\"#fdca26\"],[1.0,\"#f0f921\"]]}],\"heatmap\":[{\"type\":\"heatmap\",\"colorbar\":{\"outlinewidth\":0,\"ticks\":\"\"},\"colorscale\":[[0.0,\"#0d0887\"],[0.1111111111111111,\"#46039f\"],[0.2222222222222222,\"#7201a8\"],[0.3333333333333333,\"#9c179e\"],[0.4444444444444444,\"#bd3786\"],[0.5555555555555556,\"#d8576b\"],[0.6666666666666666,\"#ed7953\"],[0.7777777777777778,\"#fb9f3a\"],[0.8888888888888888,\"#fdca26\"],[1.0,\"#f0f921\"]]}],\"heatmapgl\":[{\"type\":\"heatmapgl\",\"colorbar\":{\"outlinewidth\":0,\"ticks\":\"\"},\"colorscale\":[[0.0,\"#0d0887\"],[0.1111111111111111,\"#46039f\"],[0.2222222222222222,\"#7201a8\"],[0.3333333333333333,\"#9c179e\"],[0.4444444444444444,\"#bd3786\"],[0.5555555555555556,\"#d8576b\"],[0.6666666666666666,\"#ed7953\"],[0.7777777777777778,\"#fb9f3a\"],[0.8888888888888888,\"#fdca26\"],[1.0,\"#f0f921\"]]}],\"contourcarpet\":[{\"type\":\"contourcarpet\",\"colorbar\":{\"outlinewidth\":0,\"ticks\":\"\"}}],\"contour\":[{\"type\":\"contour\",\"colorbar\":{\"outlinewidth\":0,\"ticks\":\"\"},\"colorscale\":[[0.0,\"#0d0887\"],[0.1111111111111111,\"#46039f\"],[0.2222222222222222,\"#7201a8\"],[0.3333333333333333,\"#9c179e\"],[0.4444444444444444,\"#bd3786\"],[0.5555555555555556,\"#d8576b\"],[0.6666666666666666,\"#ed7953\"],[0.7777777777777778,\"#fb9f3a\"],[0.8888888888888888,\"#fdca26\"],[1.0,\"#f0f921\"]]}],\"surface\":[{\"type\":\"surface\",\"colorbar\":{\"outlinewidth\":0,\"ticks\":\"\"},\"colorscale\":[[0.0,\"#0d0887\"],[0.1111111111111111,\"#46039f\"],[0.2222222222222222,\"#7201a8\"],[0.3333333333333333,\"#9c179e\"],[0.4444444444444444,\"#bd3786\"],[0.5555555555555556,\"#d8576b\"],[0.6666666666666666,\"#ed7953\"],[0.7777777777777778,\"#fb9f3a\"],[0.8888888888888888,\"#fdca26\"],[1.0,\"#f0f921\"]]}],\"mesh3d\":[{\"type\":\"mesh3d\",\"colorbar\":{\"outlinewidth\":0,\"ticks\":\"\"}}],\"scatter\":[{\"fillpattern\":{\"fillmode\":\"overlay\",\"size\":10,\"solidity\":0.2},\"type\":\"scatter\"}],\"parcoords\":[{\"type\":\"parcoords\",\"line\":{\"colorbar\":{\"outlinewidth\":0,\"ticks\":\"\"}}}],\"scatterpolargl\":[{\"type\":\"scatterpolargl\",\"marker\":{\"colorbar\":{\"outlinewidth\":0,\"ticks\":\"\"}}}],\"bar\":[{\"error_x\":{\"color\":\"#2a3f5f\"},\"error_y\":{\"color\":\"#2a3f5f\"},\"marker\":{\"line\":{\"color\":\"#E5ECF6\",\"width\":0.5},\"pattern\":{\"fillmode\":\"overlay\",\"size\":10,\"solidity\":0.2}},\"type\":\"bar\"}],\"scattergeo\":[{\"type\":\"scattergeo\",\"marker\":{\"colorbar\":{\"outlinewidth\":0,\"ticks\":\"\"}}}],\"scatterpolar\":[{\"type\":\"scatterpolar\",\"marker\":{\"colorbar\":{\"outlinewidth\":0,\"ticks\":\"\"}}}],\"histogram\":[{\"marker\":{\"pattern\":{\"fillmode\":\"overlay\",\"size\":10,\"solidity\":0.2}},\"type\":\"histogram\"}],\"scattergl\":[{\"type\":\"scattergl\",\"marker\":{\"colorbar\":{\"outlinewidth\":0,\"ticks\":\"\"}}}],\"scatter3d\":[{\"type\":\"scatter3d\",\"line\":{\"colorbar\":{\"outlinewidth\":0,\"ticks\":\"\"}},\"marker\":{\"colorbar\":{\"outlinewidth\":0,\"ticks\":\"\"}}}],\"scattermapbox\":[{\"type\":\"scattermapbox\",\"marker\":{\"colorbar\":{\"outlinewidth\":0,\"ticks\":\"\"}}}],\"scatterternary\":[{\"type\":\"scatterternary\",\"marker\":{\"colorbar\":{\"outlinewidth\":0,\"ticks\":\"\"}}}],\"scattercarpet\":[{\"type\":\"scattercarpet\",\"marker\":{\"colorbar\":{\"outlinewidth\":0,\"ticks\":\"\"}}}],\"carpet\":[{\"aaxis\":{\"endlinecolor\":\"#2a3f5f\",\"gridcolor\":\"white\",\"linecolor\":\"white\",\"minorgridcolor\":\"white\",\"startlinecolor\":\"#2a3f5f\"},\"baxis\":{\"endlinecolor\":\"#2a3f5f\",\"gridcolor\":\"white\",\"linecolor\":\"white\",\"minorgridcolor\":\"white\",\"startlinecolor\":\"#2a3f5f\"},\"type\":\"carpet\"}],\"table\":[{\"cells\":{\"fill\":{\"color\":\"#EBF0F8\"},\"line\":{\"color\":\"white\"}},\"header\":{\"fill\":{\"color\":\"#C8D4E3\"},\"line\":{\"color\":\"white\"}},\"type\":\"table\"}],\"barpolar\":[{\"marker\":{\"line\":{\"color\":\"#E5ECF6\",\"width\":0.5},\"pattern\":{\"fillmode\":\"overlay\",\"size\":10,\"solidity\":0.2}},\"type\":\"barpolar\"}],\"pie\":[{\"automargin\":true,\"type\":\"pie\"}]},\"layout\":{\"autotypenumbers\":\"strict\",\"colorway\":[\"#636efa\",\"#EF553B\",\"#00cc96\",\"#ab63fa\",\"#FFA15A\",\"#19d3f3\",\"#FF6692\",\"#B6E880\",\"#FF97FF\",\"#FECB52\"],\"font\":{\"color\":\"#2a3f5f\"},\"hovermode\":\"closest\",\"hoverlabel\":{\"align\":\"left\"},\"paper_bgcolor\":\"white\",\"plot_bgcolor\":\"#E5ECF6\",\"polar\":{\"bgcolor\":\"#E5ECF6\",\"angularaxis\":{\"gridcolor\":\"white\",\"linecolor\":\"white\",\"ticks\":\"\"},\"radialaxis\":{\"gridcolor\":\"white\",\"linecolor\":\"white\",\"ticks\":\"\"}},\"ternary\":{\"bgcolor\":\"#E5ECF6\",\"aaxis\":{\"gridcolor\":\"white\",\"linecolor\":\"white\",\"ticks\":\"\"},\"baxis\":{\"gridcolor\":\"white\",\"linecolor\":\"white\",\"ticks\":\"\"},\"caxis\":{\"gridcolor\":\"white\",\"linecolor\":\"white\",\"ticks\":\"\"}},\"coloraxis\":{\"colorbar\":{\"outlinewidth\":0,\"ticks\":\"\"}},\"colorscale\":{\"sequential\":[[0.0,\"#0d0887\"],[0.1111111111111111,\"#46039f\"],[0.2222222222222222,\"#7201a8\"],[0.3333333333333333,\"#9c179e\"],[0.4444444444444444,\"#bd3786\"],[0.5555555555555556,\"#d8576b\"],[0.6666666666666666,\"#ed7953\"],[0.7777777777777778,\"#fb9f3a\"],[0.8888888888888888,\"#fdca26\"],[1.0,\"#f0f921\"]],\"sequentialminus\":[[0.0,\"#0d0887\"],[0.1111111111111111,\"#46039f\"],[0.2222222222222222,\"#7201a8\"],[0.3333333333333333,\"#9c179e\"],[0.4444444444444444,\"#bd3786\"],[0.5555555555555556,\"#d8576b\"],[0.6666666666666666,\"#ed7953\"],[0.7777777777777778,\"#fb9f3a\"],[0.8888888888888888,\"#fdca26\"],[1.0,\"#f0f921\"]],\"diverging\":[[0,\"#8e0152\"],[0.1,\"#c51b7d\"],[0.2,\"#de77ae\"],[0.3,\"#f1b6da\"],[0.4,\"#fde0ef\"],[0.5,\"#f7f7f7\"],[0.6,\"#e6f5d0\"],[0.7,\"#b8e186\"],[0.8,\"#7fbc41\"],[0.9,\"#4d9221\"],[1,\"#276419\"]]},\"xaxis\":{\"gridcolor\":\"white\",\"linecolor\":\"white\",\"ticks\":\"\",\"title\":{\"standoff\":15},\"zerolinecolor\":\"white\",\"automargin\":true,\"zerolinewidth\":2},\"yaxis\":{\"gridcolor\":\"white\",\"linecolor\":\"white\",\"ticks\":\"\",\"title\":{\"standoff\":15},\"zerolinecolor\":\"white\",\"automargin\":true,\"zerolinewidth\":2},\"scene\":{\"xaxis\":{\"backgroundcolor\":\"#E5ECF6\",\"gridcolor\":\"white\",\"linecolor\":\"white\",\"showbackground\":true,\"ticks\":\"\",\"zerolinecolor\":\"white\",\"gridwidth\":2},\"yaxis\":{\"backgroundcolor\":\"#E5ECF6\",\"gridcolor\":\"white\",\"linecolor\":\"white\",\"showbackground\":true,\"ticks\":\"\",\"zerolinecolor\":\"white\",\"gridwidth\":2},\"zaxis\":{\"backgroundcolor\":\"#E5ECF6\",\"gridcolor\":\"white\",\"linecolor\":\"white\",\"showbackground\":true,\"ticks\":\"\",\"zerolinecolor\":\"white\",\"gridwidth\":2}},\"shapedefaults\":{\"line\":{\"color\":\"#2a3f5f\"}},\"annotationdefaults\":{\"arrowcolor\":\"#2a3f5f\",\"arrowhead\":0,\"arrowwidth\":1},\"geo\":{\"bgcolor\":\"white\",\"landcolor\":\"#E5ECF6\",\"subunitcolor\":\"white\",\"showland\":true,\"showlakes\":true,\"lakecolor\":\"white\"},\"title\":{\"x\":0.05},\"mapbox\":{\"style\":\"light\"}}},\"margin\":{\"t\":0,\"b\":0,\"l\":0,\"r\":0},\"autosize\":false,\"width\":800,\"height\":1000},                        {\"responsive\": true}                    ).then(function(){\n",
       "                            \n",
       "var gd = document.getElementById('8cf9eca8-0c3d-462a-9224-d6b8cd6df8c3');\n",
       "var x = new MutationObserver(function (mutations, observer) {{\n",
       "        var display = window.getComputedStyle(gd).display;\n",
       "        if (!display || display === 'none') {{\n",
       "            console.log([gd, 'removed!']);\n",
       "            Plotly.purge(gd);\n",
       "            observer.disconnect();\n",
       "        }}\n",
       "}});\n",
       "\n",
       "// Listen for the removal of the full notebook cells\n",
       "var notebookContainer = gd.closest('#notebook-container');\n",
       "if (notebookContainer) {{\n",
       "    x.observe(notebookContainer, {childList: true});\n",
       "}}\n",
       "\n",
       "// Listen for the clearing of the current output cell\n",
       "var outputEl = gd.closest('.output');\n",
       "if (outputEl) {{\n",
       "    x.observe(outputEl, {childList: true});\n",
       "}}\n",
       "\n",
       "                        })                };                });            </script>        </div>"
      ]
     },
     "metadata": {},
     "output_type": "display_data"
    }
   ],
   "source": [
    "import plotly.graph_objects as go\n",
    "\n",
    "isother = lambda v: \"other\" in v.lower().split() or \"miscellaneous\" in v.lower().split()\n",
    "otherhigh = [\n",
    "    (\"\", high, sum(\n",
    "        v[2] for v in hierarchylow\n",
    "        if v[0] == high and isother(v[1])\n",
    "    ))\n",
    "    for high in hierarchy_dict.keys()\n",
    "]\n",
    "nonotherlow = [x for x in hierarchylow if not isother(x[1])]\n",
    "custhier = nonotherlow + otherhigh\n",
    "custhier = [(high.replace(\"_\", \" \").title(), low.replace(\"_\", \" \").title(), val) for high, low, val in custhier]\n",
    "parents, labels, values = zip(*custhier)\n",
    "# labels = [f\"{label} ({count})\" for label, count in zip(labels, values)]\n",
    "fig = go.Figure(go.Sunburst(\n",
    "    labels=labels,\n",
    "    parents=parents,\n",
    "    values=values,\n",
    "))\n",
    "fig.update_layout(margin=dict(t=0, b=0, l=0, r=0), autosize=False, width=800, height=1000)\n",
    "\n",
    "fig.show()\n",
    "# fig.write_image(\"fig1.png\")"
   ]
  },
  {
   "cell_type": "code",
   "execution_count": 87,
   "id": "1b37d049",
   "metadata": {},
   "outputs": [
    {
     "data": {
      "application/vnd.plotly.v1+json": {
       "config": {
        "plotlyServerURL": "https://plot.ly"
       },
       "data": [
        {
         "domain": {
          "x": [
           0,
           1
          ],
          "y": [
           0,
           1
          ]
         },
         "hovertemplate": "category=%{label}<br>count=%{value}<extra></extra>",
         "labels": [
          "Food Items",
          "Household Items",
          "Tools & Hardware",
          "Electronics",
          "Personal Care Items",
          "Clothing & Accessories",
          "Office Supplies",
          "Other"
         ],
         "legendgroup": "",
         "name": "",
         "showlegend": true,
         "type": "pie",
         "values": [
          1510,
          2917,
          181,
          271,
          153,
          202,
          487,
          964
         ]
        }
       ],
       "layout": {
        "autosize": false,
        "height": 600,
        "legend": {
         "tracegroupgap": 0
        },
        "margin": {
         "b": 0,
         "l": 0,
         "r": 0,
         "t": 0
        },
        "template": {
         "data": {
          "bar": [
           {
            "error_x": {
             "color": "#2a3f5f"
            },
            "error_y": {
             "color": "#2a3f5f"
            },
            "marker": {
             "line": {
              "color": "#E5ECF6",
              "width": 0.5
             },
             "pattern": {
              "fillmode": "overlay",
              "size": 10,
              "solidity": 0.2
             }
            },
            "type": "bar"
           }
          ],
          "barpolar": [
           {
            "marker": {
             "line": {
              "color": "#E5ECF6",
              "width": 0.5
             },
             "pattern": {
              "fillmode": "overlay",
              "size": 10,
              "solidity": 0.2
             }
            },
            "type": "barpolar"
           }
          ],
          "carpet": [
           {
            "aaxis": {
             "endlinecolor": "#2a3f5f",
             "gridcolor": "white",
             "linecolor": "white",
             "minorgridcolor": "white",
             "startlinecolor": "#2a3f5f"
            },
            "baxis": {
             "endlinecolor": "#2a3f5f",
             "gridcolor": "white",
             "linecolor": "white",
             "minorgridcolor": "white",
             "startlinecolor": "#2a3f5f"
            },
            "type": "carpet"
           }
          ],
          "choropleth": [
           {
            "colorbar": {
             "outlinewidth": 0,
             "ticks": ""
            },
            "type": "choropleth"
           }
          ],
          "contour": [
           {
            "colorbar": {
             "outlinewidth": 0,
             "ticks": ""
            },
            "colorscale": [
             [
              0,
              "#0d0887"
             ],
             [
              0.1111111111111111,
              "#46039f"
             ],
             [
              0.2222222222222222,
              "#7201a8"
             ],
             [
              0.3333333333333333,
              "#9c179e"
             ],
             [
              0.4444444444444444,
              "#bd3786"
             ],
             [
              0.5555555555555556,
              "#d8576b"
             ],
             [
              0.6666666666666666,
              "#ed7953"
             ],
             [
              0.7777777777777778,
              "#fb9f3a"
             ],
             [
              0.8888888888888888,
              "#fdca26"
             ],
             [
              1,
              "#f0f921"
             ]
            ],
            "type": "contour"
           }
          ],
          "contourcarpet": [
           {
            "colorbar": {
             "outlinewidth": 0,
             "ticks": ""
            },
            "type": "contourcarpet"
           }
          ],
          "heatmap": [
           {
            "colorbar": {
             "outlinewidth": 0,
             "ticks": ""
            },
            "colorscale": [
             [
              0,
              "#0d0887"
             ],
             [
              0.1111111111111111,
              "#46039f"
             ],
             [
              0.2222222222222222,
              "#7201a8"
             ],
             [
              0.3333333333333333,
              "#9c179e"
             ],
             [
              0.4444444444444444,
              "#bd3786"
             ],
             [
              0.5555555555555556,
              "#d8576b"
             ],
             [
              0.6666666666666666,
              "#ed7953"
             ],
             [
              0.7777777777777778,
              "#fb9f3a"
             ],
             [
              0.8888888888888888,
              "#fdca26"
             ],
             [
              1,
              "#f0f921"
             ]
            ],
            "type": "heatmap"
           }
          ],
          "heatmapgl": [
           {
            "colorbar": {
             "outlinewidth": 0,
             "ticks": ""
            },
            "colorscale": [
             [
              0,
              "#0d0887"
             ],
             [
              0.1111111111111111,
              "#46039f"
             ],
             [
              0.2222222222222222,
              "#7201a8"
             ],
             [
              0.3333333333333333,
              "#9c179e"
             ],
             [
              0.4444444444444444,
              "#bd3786"
             ],
             [
              0.5555555555555556,
              "#d8576b"
             ],
             [
              0.6666666666666666,
              "#ed7953"
             ],
             [
              0.7777777777777778,
              "#fb9f3a"
             ],
             [
              0.8888888888888888,
              "#fdca26"
             ],
             [
              1,
              "#f0f921"
             ]
            ],
            "type": "heatmapgl"
           }
          ],
          "histogram": [
           {
            "marker": {
             "pattern": {
              "fillmode": "overlay",
              "size": 10,
              "solidity": 0.2
             }
            },
            "type": "histogram"
           }
          ],
          "histogram2d": [
           {
            "colorbar": {
             "outlinewidth": 0,
             "ticks": ""
            },
            "colorscale": [
             [
              0,
              "#0d0887"
             ],
             [
              0.1111111111111111,
              "#46039f"
             ],
             [
              0.2222222222222222,
              "#7201a8"
             ],
             [
              0.3333333333333333,
              "#9c179e"
             ],
             [
              0.4444444444444444,
              "#bd3786"
             ],
             [
              0.5555555555555556,
              "#d8576b"
             ],
             [
              0.6666666666666666,
              "#ed7953"
             ],
             [
              0.7777777777777778,
              "#fb9f3a"
             ],
             [
              0.8888888888888888,
              "#fdca26"
             ],
             [
              1,
              "#f0f921"
             ]
            ],
            "type": "histogram2d"
           }
          ],
          "histogram2dcontour": [
           {
            "colorbar": {
             "outlinewidth": 0,
             "ticks": ""
            },
            "colorscale": [
             [
              0,
              "#0d0887"
             ],
             [
              0.1111111111111111,
              "#46039f"
             ],
             [
              0.2222222222222222,
              "#7201a8"
             ],
             [
              0.3333333333333333,
              "#9c179e"
             ],
             [
              0.4444444444444444,
              "#bd3786"
             ],
             [
              0.5555555555555556,
              "#d8576b"
             ],
             [
              0.6666666666666666,
              "#ed7953"
             ],
             [
              0.7777777777777778,
              "#fb9f3a"
             ],
             [
              0.8888888888888888,
              "#fdca26"
             ],
             [
              1,
              "#f0f921"
             ]
            ],
            "type": "histogram2dcontour"
           }
          ],
          "mesh3d": [
           {
            "colorbar": {
             "outlinewidth": 0,
             "ticks": ""
            },
            "type": "mesh3d"
           }
          ],
          "parcoords": [
           {
            "line": {
             "colorbar": {
              "outlinewidth": 0,
              "ticks": ""
             }
            },
            "type": "parcoords"
           }
          ],
          "pie": [
           {
            "automargin": true,
            "type": "pie"
           }
          ],
          "scatter": [
           {
            "fillpattern": {
             "fillmode": "overlay",
             "size": 10,
             "solidity": 0.2
            },
            "type": "scatter"
           }
          ],
          "scatter3d": [
           {
            "line": {
             "colorbar": {
              "outlinewidth": 0,
              "ticks": ""
             }
            },
            "marker": {
             "colorbar": {
              "outlinewidth": 0,
              "ticks": ""
             }
            },
            "type": "scatter3d"
           }
          ],
          "scattercarpet": [
           {
            "marker": {
             "colorbar": {
              "outlinewidth": 0,
              "ticks": ""
             }
            },
            "type": "scattercarpet"
           }
          ],
          "scattergeo": [
           {
            "marker": {
             "colorbar": {
              "outlinewidth": 0,
              "ticks": ""
             }
            },
            "type": "scattergeo"
           }
          ],
          "scattergl": [
           {
            "marker": {
             "colorbar": {
              "outlinewidth": 0,
              "ticks": ""
             }
            },
            "type": "scattergl"
           }
          ],
          "scattermapbox": [
           {
            "marker": {
             "colorbar": {
              "outlinewidth": 0,
              "ticks": ""
             }
            },
            "type": "scattermapbox"
           }
          ],
          "scatterpolar": [
           {
            "marker": {
             "colorbar": {
              "outlinewidth": 0,
              "ticks": ""
             }
            },
            "type": "scatterpolar"
           }
          ],
          "scatterpolargl": [
           {
            "marker": {
             "colorbar": {
              "outlinewidth": 0,
              "ticks": ""
             }
            },
            "type": "scatterpolargl"
           }
          ],
          "scatterternary": [
           {
            "marker": {
             "colorbar": {
              "outlinewidth": 0,
              "ticks": ""
             }
            },
            "type": "scatterternary"
           }
          ],
          "surface": [
           {
            "colorbar": {
             "outlinewidth": 0,
             "ticks": ""
            },
            "colorscale": [
             [
              0,
              "#0d0887"
             ],
             [
              0.1111111111111111,
              "#46039f"
             ],
             [
              0.2222222222222222,
              "#7201a8"
             ],
             [
              0.3333333333333333,
              "#9c179e"
             ],
             [
              0.4444444444444444,
              "#bd3786"
             ],
             [
              0.5555555555555556,
              "#d8576b"
             ],
             [
              0.6666666666666666,
              "#ed7953"
             ],
             [
              0.7777777777777778,
              "#fb9f3a"
             ],
             [
              0.8888888888888888,
              "#fdca26"
             ],
             [
              1,
              "#f0f921"
             ]
            ],
            "type": "surface"
           }
          ],
          "table": [
           {
            "cells": {
             "fill": {
              "color": "#EBF0F8"
             },
             "line": {
              "color": "white"
             }
            },
            "header": {
             "fill": {
              "color": "#C8D4E3"
             },
             "line": {
              "color": "white"
             }
            },
            "type": "table"
           }
          ]
         },
         "layout": {
          "annotationdefaults": {
           "arrowcolor": "#2a3f5f",
           "arrowhead": 0,
           "arrowwidth": 1
          },
          "autotypenumbers": "strict",
          "coloraxis": {
           "colorbar": {
            "outlinewidth": 0,
            "ticks": ""
           }
          },
          "colorscale": {
           "diverging": [
            [
             0,
             "#8e0152"
            ],
            [
             0.1,
             "#c51b7d"
            ],
            [
             0.2,
             "#de77ae"
            ],
            [
             0.3,
             "#f1b6da"
            ],
            [
             0.4,
             "#fde0ef"
            ],
            [
             0.5,
             "#f7f7f7"
            ],
            [
             0.6,
             "#e6f5d0"
            ],
            [
             0.7,
             "#b8e186"
            ],
            [
             0.8,
             "#7fbc41"
            ],
            [
             0.9,
             "#4d9221"
            ],
            [
             1,
             "#276419"
            ]
           ],
           "sequential": [
            [
             0,
             "#0d0887"
            ],
            [
             0.1111111111111111,
             "#46039f"
            ],
            [
             0.2222222222222222,
             "#7201a8"
            ],
            [
             0.3333333333333333,
             "#9c179e"
            ],
            [
             0.4444444444444444,
             "#bd3786"
            ],
            [
             0.5555555555555556,
             "#d8576b"
            ],
            [
             0.6666666666666666,
             "#ed7953"
            ],
            [
             0.7777777777777778,
             "#fb9f3a"
            ],
            [
             0.8888888888888888,
             "#fdca26"
            ],
            [
             1,
             "#f0f921"
            ]
           ],
           "sequentialminus": [
            [
             0,
             "#0d0887"
            ],
            [
             0.1111111111111111,
             "#46039f"
            ],
            [
             0.2222222222222222,
             "#7201a8"
            ],
            [
             0.3333333333333333,
             "#9c179e"
            ],
            [
             0.4444444444444444,
             "#bd3786"
            ],
            [
             0.5555555555555556,
             "#d8576b"
            ],
            [
             0.6666666666666666,
             "#ed7953"
            ],
            [
             0.7777777777777778,
             "#fb9f3a"
            ],
            [
             0.8888888888888888,
             "#fdca26"
            ],
            [
             1,
             "#f0f921"
            ]
           ]
          },
          "colorway": [
           "#636efa",
           "#EF553B",
           "#00cc96",
           "#ab63fa",
           "#FFA15A",
           "#19d3f3",
           "#FF6692",
           "#B6E880",
           "#FF97FF",
           "#FECB52"
          ],
          "font": {
           "color": "#2a3f5f"
          },
          "geo": {
           "bgcolor": "white",
           "lakecolor": "white",
           "landcolor": "#E5ECF6",
           "showlakes": true,
           "showland": true,
           "subunitcolor": "white"
          },
          "hoverlabel": {
           "align": "left"
          },
          "hovermode": "closest",
          "mapbox": {
           "style": "light"
          },
          "paper_bgcolor": "white",
          "plot_bgcolor": "#E5ECF6",
          "polar": {
           "angularaxis": {
            "gridcolor": "white",
            "linecolor": "white",
            "ticks": ""
           },
           "bgcolor": "#E5ECF6",
           "radialaxis": {
            "gridcolor": "white",
            "linecolor": "white",
            "ticks": ""
           }
          },
          "scene": {
           "xaxis": {
            "backgroundcolor": "#E5ECF6",
            "gridcolor": "white",
            "gridwidth": 2,
            "linecolor": "white",
            "showbackground": true,
            "ticks": "",
            "zerolinecolor": "white"
           },
           "yaxis": {
            "backgroundcolor": "#E5ECF6",
            "gridcolor": "white",
            "gridwidth": 2,
            "linecolor": "white",
            "showbackground": true,
            "ticks": "",
            "zerolinecolor": "white"
           },
           "zaxis": {
            "backgroundcolor": "#E5ECF6",
            "gridcolor": "white",
            "gridwidth": 2,
            "linecolor": "white",
            "showbackground": true,
            "ticks": "",
            "zerolinecolor": "white"
           }
          },
          "shapedefaults": {
           "line": {
            "color": "#2a3f5f"
           }
          },
          "ternary": {
           "aaxis": {
            "gridcolor": "white",
            "linecolor": "white",
            "ticks": ""
           },
           "baxis": {
            "gridcolor": "white",
            "linecolor": "white",
            "ticks": ""
           },
           "bgcolor": "#E5ECF6",
           "caxis": {
            "gridcolor": "white",
            "linecolor": "white",
            "ticks": ""
           }
          },
          "title": {
           "x": 0.05
          },
          "xaxis": {
           "automargin": true,
           "gridcolor": "white",
           "linecolor": "white",
           "ticks": "",
           "title": {
            "standoff": 15
           },
           "zerolinecolor": "white",
           "zerolinewidth": 2
          },
          "yaxis": {
           "automargin": true,
           "gridcolor": "white",
           "linecolor": "white",
           "ticks": "",
           "title": {
            "standoff": 15
           },
           "zerolinecolor": "white",
           "zerolinewidth": 2
          }
         }
        },
        "width": 600
       }
      },
      "text/html": [
       "<div>                            <div id=\"8c99dbb8-aa94-4411-b55e-d178f343747e\" class=\"plotly-graph-div\" style=\"height:600px; width:600px;\"></div>            <script type=\"text/javascript\">                require([\"plotly\"], function(Plotly) {                    window.PLOTLYENV=window.PLOTLYENV || {};                                    if (document.getElementById(\"8c99dbb8-aa94-4411-b55e-d178f343747e\")) {                    Plotly.newPlot(                        \"8c99dbb8-aa94-4411-b55e-d178f343747e\",                        [{\"domain\":{\"x\":[0.0,1.0],\"y\":[0.0,1.0]},\"hovertemplate\":\"category=%{label}\\u003cbr\\u003ecount=%{value}\\u003cextra\\u003e\\u003c\\u002fextra\\u003e\",\"labels\":[\"Food Items\",\"Household Items\",\"Tools & Hardware\",\"Electronics\",\"Personal Care Items\",\"Clothing & Accessories\",\"Office Supplies\",\"Other\"],\"legendgroup\":\"\",\"name\":\"\",\"showlegend\":true,\"values\":[1510,2917,181,271,153,202,487,964],\"type\":\"pie\"}],                        {\"template\":{\"data\":{\"histogram2dcontour\":[{\"type\":\"histogram2dcontour\",\"colorbar\":{\"outlinewidth\":0,\"ticks\":\"\"},\"colorscale\":[[0.0,\"#0d0887\"],[0.1111111111111111,\"#46039f\"],[0.2222222222222222,\"#7201a8\"],[0.3333333333333333,\"#9c179e\"],[0.4444444444444444,\"#bd3786\"],[0.5555555555555556,\"#d8576b\"],[0.6666666666666666,\"#ed7953\"],[0.7777777777777778,\"#fb9f3a\"],[0.8888888888888888,\"#fdca26\"],[1.0,\"#f0f921\"]]}],\"choropleth\":[{\"type\":\"choropleth\",\"colorbar\":{\"outlinewidth\":0,\"ticks\":\"\"}}],\"histogram2d\":[{\"type\":\"histogram2d\",\"colorbar\":{\"outlinewidth\":0,\"ticks\":\"\"},\"colorscale\":[[0.0,\"#0d0887\"],[0.1111111111111111,\"#46039f\"],[0.2222222222222222,\"#7201a8\"],[0.3333333333333333,\"#9c179e\"],[0.4444444444444444,\"#bd3786\"],[0.5555555555555556,\"#d8576b\"],[0.6666666666666666,\"#ed7953\"],[0.7777777777777778,\"#fb9f3a\"],[0.8888888888888888,\"#fdca26\"],[1.0,\"#f0f921\"]]}],\"heatmap\":[{\"type\":\"heatmap\",\"colorbar\":{\"outlinewidth\":0,\"ticks\":\"\"},\"colorscale\":[[0.0,\"#0d0887\"],[0.1111111111111111,\"#46039f\"],[0.2222222222222222,\"#7201a8\"],[0.3333333333333333,\"#9c179e\"],[0.4444444444444444,\"#bd3786\"],[0.5555555555555556,\"#d8576b\"],[0.6666666666666666,\"#ed7953\"],[0.7777777777777778,\"#fb9f3a\"],[0.8888888888888888,\"#fdca26\"],[1.0,\"#f0f921\"]]}],\"heatmapgl\":[{\"type\":\"heatmapgl\",\"colorbar\":{\"outlinewidth\":0,\"ticks\":\"\"},\"colorscale\":[[0.0,\"#0d0887\"],[0.1111111111111111,\"#46039f\"],[0.2222222222222222,\"#7201a8\"],[0.3333333333333333,\"#9c179e\"],[0.4444444444444444,\"#bd3786\"],[0.5555555555555556,\"#d8576b\"],[0.6666666666666666,\"#ed7953\"],[0.7777777777777778,\"#fb9f3a\"],[0.8888888888888888,\"#fdca26\"],[1.0,\"#f0f921\"]]}],\"contourcarpet\":[{\"type\":\"contourcarpet\",\"colorbar\":{\"outlinewidth\":0,\"ticks\":\"\"}}],\"contour\":[{\"type\":\"contour\",\"colorbar\":{\"outlinewidth\":0,\"ticks\":\"\"},\"colorscale\":[[0.0,\"#0d0887\"],[0.1111111111111111,\"#46039f\"],[0.2222222222222222,\"#7201a8\"],[0.3333333333333333,\"#9c179e\"],[0.4444444444444444,\"#bd3786\"],[0.5555555555555556,\"#d8576b\"],[0.6666666666666666,\"#ed7953\"],[0.7777777777777778,\"#fb9f3a\"],[0.8888888888888888,\"#fdca26\"],[1.0,\"#f0f921\"]]}],\"surface\":[{\"type\":\"surface\",\"colorbar\":{\"outlinewidth\":0,\"ticks\":\"\"},\"colorscale\":[[0.0,\"#0d0887\"],[0.1111111111111111,\"#46039f\"],[0.2222222222222222,\"#7201a8\"],[0.3333333333333333,\"#9c179e\"],[0.4444444444444444,\"#bd3786\"],[0.5555555555555556,\"#d8576b\"],[0.6666666666666666,\"#ed7953\"],[0.7777777777777778,\"#fb9f3a\"],[0.8888888888888888,\"#fdca26\"],[1.0,\"#f0f921\"]]}],\"mesh3d\":[{\"type\":\"mesh3d\",\"colorbar\":{\"outlinewidth\":0,\"ticks\":\"\"}}],\"scatter\":[{\"fillpattern\":{\"fillmode\":\"overlay\",\"size\":10,\"solidity\":0.2},\"type\":\"scatter\"}],\"parcoords\":[{\"type\":\"parcoords\",\"line\":{\"colorbar\":{\"outlinewidth\":0,\"ticks\":\"\"}}}],\"scatterpolargl\":[{\"type\":\"scatterpolargl\",\"marker\":{\"colorbar\":{\"outlinewidth\":0,\"ticks\":\"\"}}}],\"bar\":[{\"error_x\":{\"color\":\"#2a3f5f\"},\"error_y\":{\"color\":\"#2a3f5f\"},\"marker\":{\"line\":{\"color\":\"#E5ECF6\",\"width\":0.5},\"pattern\":{\"fillmode\":\"overlay\",\"size\":10,\"solidity\":0.2}},\"type\":\"bar\"}],\"scattergeo\":[{\"type\":\"scattergeo\",\"marker\":{\"colorbar\":{\"outlinewidth\":0,\"ticks\":\"\"}}}],\"scatterpolar\":[{\"type\":\"scatterpolar\",\"marker\":{\"colorbar\":{\"outlinewidth\":0,\"ticks\":\"\"}}}],\"histogram\":[{\"marker\":{\"pattern\":{\"fillmode\":\"overlay\",\"size\":10,\"solidity\":0.2}},\"type\":\"histogram\"}],\"scattergl\":[{\"type\":\"scattergl\",\"marker\":{\"colorbar\":{\"outlinewidth\":0,\"ticks\":\"\"}}}],\"scatter3d\":[{\"type\":\"scatter3d\",\"line\":{\"colorbar\":{\"outlinewidth\":0,\"ticks\":\"\"}},\"marker\":{\"colorbar\":{\"outlinewidth\":0,\"ticks\":\"\"}}}],\"scattermapbox\":[{\"type\":\"scattermapbox\",\"marker\":{\"colorbar\":{\"outlinewidth\":0,\"ticks\":\"\"}}}],\"scatterternary\":[{\"type\":\"scatterternary\",\"marker\":{\"colorbar\":{\"outlinewidth\":0,\"ticks\":\"\"}}}],\"scattercarpet\":[{\"type\":\"scattercarpet\",\"marker\":{\"colorbar\":{\"outlinewidth\":0,\"ticks\":\"\"}}}],\"carpet\":[{\"aaxis\":{\"endlinecolor\":\"#2a3f5f\",\"gridcolor\":\"white\",\"linecolor\":\"white\",\"minorgridcolor\":\"white\",\"startlinecolor\":\"#2a3f5f\"},\"baxis\":{\"endlinecolor\":\"#2a3f5f\",\"gridcolor\":\"white\",\"linecolor\":\"white\",\"minorgridcolor\":\"white\",\"startlinecolor\":\"#2a3f5f\"},\"type\":\"carpet\"}],\"table\":[{\"cells\":{\"fill\":{\"color\":\"#EBF0F8\"},\"line\":{\"color\":\"white\"}},\"header\":{\"fill\":{\"color\":\"#C8D4E3\"},\"line\":{\"color\":\"white\"}},\"type\":\"table\"}],\"barpolar\":[{\"marker\":{\"line\":{\"color\":\"#E5ECF6\",\"width\":0.5},\"pattern\":{\"fillmode\":\"overlay\",\"size\":10,\"solidity\":0.2}},\"type\":\"barpolar\"}],\"pie\":[{\"automargin\":true,\"type\":\"pie\"}]},\"layout\":{\"autotypenumbers\":\"strict\",\"colorway\":[\"#636efa\",\"#EF553B\",\"#00cc96\",\"#ab63fa\",\"#FFA15A\",\"#19d3f3\",\"#FF6692\",\"#B6E880\",\"#FF97FF\",\"#FECB52\"],\"font\":{\"color\":\"#2a3f5f\"},\"hovermode\":\"closest\",\"hoverlabel\":{\"align\":\"left\"},\"paper_bgcolor\":\"white\",\"plot_bgcolor\":\"#E5ECF6\",\"polar\":{\"bgcolor\":\"#E5ECF6\",\"angularaxis\":{\"gridcolor\":\"white\",\"linecolor\":\"white\",\"ticks\":\"\"},\"radialaxis\":{\"gridcolor\":\"white\",\"linecolor\":\"white\",\"ticks\":\"\"}},\"ternary\":{\"bgcolor\":\"#E5ECF6\",\"aaxis\":{\"gridcolor\":\"white\",\"linecolor\":\"white\",\"ticks\":\"\"},\"baxis\":{\"gridcolor\":\"white\",\"linecolor\":\"white\",\"ticks\":\"\"},\"caxis\":{\"gridcolor\":\"white\",\"linecolor\":\"white\",\"ticks\":\"\"}},\"coloraxis\":{\"colorbar\":{\"outlinewidth\":0,\"ticks\":\"\"}},\"colorscale\":{\"sequential\":[[0.0,\"#0d0887\"],[0.1111111111111111,\"#46039f\"],[0.2222222222222222,\"#7201a8\"],[0.3333333333333333,\"#9c179e\"],[0.4444444444444444,\"#bd3786\"],[0.5555555555555556,\"#d8576b\"],[0.6666666666666666,\"#ed7953\"],[0.7777777777777778,\"#fb9f3a\"],[0.8888888888888888,\"#fdca26\"],[1.0,\"#f0f921\"]],\"sequentialminus\":[[0.0,\"#0d0887\"],[0.1111111111111111,\"#46039f\"],[0.2222222222222222,\"#7201a8\"],[0.3333333333333333,\"#9c179e\"],[0.4444444444444444,\"#bd3786\"],[0.5555555555555556,\"#d8576b\"],[0.6666666666666666,\"#ed7953\"],[0.7777777777777778,\"#fb9f3a\"],[0.8888888888888888,\"#fdca26\"],[1.0,\"#f0f921\"]],\"diverging\":[[0,\"#8e0152\"],[0.1,\"#c51b7d\"],[0.2,\"#de77ae\"],[0.3,\"#f1b6da\"],[0.4,\"#fde0ef\"],[0.5,\"#f7f7f7\"],[0.6,\"#e6f5d0\"],[0.7,\"#b8e186\"],[0.8,\"#7fbc41\"],[0.9,\"#4d9221\"],[1,\"#276419\"]]},\"xaxis\":{\"gridcolor\":\"white\",\"linecolor\":\"white\",\"ticks\":\"\",\"title\":{\"standoff\":15},\"zerolinecolor\":\"white\",\"automargin\":true,\"zerolinewidth\":2},\"yaxis\":{\"gridcolor\":\"white\",\"linecolor\":\"white\",\"ticks\":\"\",\"title\":{\"standoff\":15},\"zerolinecolor\":\"white\",\"automargin\":true,\"zerolinewidth\":2},\"scene\":{\"xaxis\":{\"backgroundcolor\":\"#E5ECF6\",\"gridcolor\":\"white\",\"linecolor\":\"white\",\"showbackground\":true,\"ticks\":\"\",\"zerolinecolor\":\"white\",\"gridwidth\":2},\"yaxis\":{\"backgroundcolor\":\"#E5ECF6\",\"gridcolor\":\"white\",\"linecolor\":\"white\",\"showbackground\":true,\"ticks\":\"\",\"zerolinecolor\":\"white\",\"gridwidth\":2},\"zaxis\":{\"backgroundcolor\":\"#E5ECF6\",\"gridcolor\":\"white\",\"linecolor\":\"white\",\"showbackground\":true,\"ticks\":\"\",\"zerolinecolor\":\"white\",\"gridwidth\":2}},\"shapedefaults\":{\"line\":{\"color\":\"#2a3f5f\"}},\"annotationdefaults\":{\"arrowcolor\":\"#2a3f5f\",\"arrowhead\":0,\"arrowwidth\":1},\"geo\":{\"bgcolor\":\"white\",\"landcolor\":\"#E5ECF6\",\"subunitcolor\":\"white\",\"showland\":true,\"showlakes\":true,\"lakecolor\":\"white\"},\"title\":{\"x\":0.05},\"mapbox\":{\"style\":\"light\"}}},\"legend\":{\"tracegroupgap\":0},\"margin\":{\"t\":0,\"b\":0,\"l\":0,\"r\":0},\"autosize\":false,\"width\":600,\"height\":600},                        {\"responsive\": true}                    ).then(function(){\n",
       "                            \n",
       "var gd = document.getElementById('8c99dbb8-aa94-4411-b55e-d178f343747e');\n",
       "var x = new MutationObserver(function (mutations, observer) {{\n",
       "        var display = window.getComputedStyle(gd).display;\n",
       "        if (!display || display === 'none') {{\n",
       "            console.log([gd, 'removed!']);\n",
       "            Plotly.purge(gd);\n",
       "            observer.disconnect();\n",
       "        }}\n",
       "}});\n",
       "\n",
       "// Listen for the removal of the full notebook cells\n",
       "var notebookContainer = gd.closest('#notebook-container');\n",
       "if (notebookContainer) {{\n",
       "    x.observe(notebookContainer, {childList: true});\n",
       "}}\n",
       "\n",
       "// Listen for the clearing of the current output cell\n",
       "var outputEl = gd.closest('.output');\n",
       "if (outputEl) {{\n",
       "    x.observe(outputEl, {childList: true});\n",
       "}}\n",
       "\n",
       "                        })                };                });            </script>        </div>"
      ]
     },
     "metadata": {},
     "output_type": "display_data"
    }
   ],
   "source": [
    "import pandas as pd\n",
    "import plotly.express as px\n",
    "df = pd.DataFrame.from_records([{\"category\": hr_hier[x[1]], \"count\": x[2]} for x in hierarchyhigh])\n",
    "fig = px.pie(df, values='count', names='category')\n",
    "fig.update_layout(margin=dict(t=0, b=0, l=0, r=0), autosize=False, width=600, height=600)\n",
    "fig.show()"
   ]
  },
  {
   "cell_type": "code",
   "execution_count": 85,
   "id": "ce82b254",
   "metadata": {},
   "outputs": [
    {
     "name": "stdout",
     "output_type": "stream",
     "text": [
      "1510/Food Items,\n",
      "2917/Household Items,\n",
      "181/Tools & Hardware,\n",
      "271/Electronics,\n",
      "153/Personal Care Items,\n",
      "202/Clothing & Accessories,\n",
      "487/Office Supplies,\n",
      "964/Other\n"
     ]
    }
   ],
   "source": [
    "import numpy as np\n",
    "totalhigh = sum(x[2] for x in hierarchyhigh)\n",
    "print(\",\\n\".join(f\"{x[2]}/{hr_hier[x[1]]}\" for x in hierarchyhigh))"
   ]
  },
  {
   "cell_type": "code",
   "execution_count": 102,
   "id": "2d299515",
   "metadata": {},
   "outputs": [],
   "source": [
    "import kaleido"
   ]
  },
  {
   "cell_type": "code",
   "execution_count": 109,
   "id": "8b26ce19",
   "metadata": {},
   "outputs": [
    {
     "name": "stdout",
     "output_type": "stream",
     "text": [
      "Food Items [108] Fruits\n",
      "Food Items [160] Vegetables\n",
      "Food Items [277] Beverages\n",
      "Food Items [91] Baking Ingredients\n",
      "Food Items [81] Snacks\n",
      "Food Items [73] Condiments & Sauces\n",
      "Food Items [63] Meats\n",
      "Food Items [19] Seafood\n",
      "Food Items [62] Dairy\n",
      "Food Items [66] Grains & Pasta\n",
      "Food Items [115] Herbs & Spices\n",
      "Food Items [85] Sweets\n",
      "Food Items [91] Other Food Items\n",
      "Household Items [61] Cleaning Supplies\n",
      "Household Items [433] Kitchenware\n",
      "Household Items [340] Decor\n",
      "Household Items [833] Furniture\n",
      "Household Items [110] Appliances\n",
      "Household Items [457] Other Household Items\n",
      "Tools Hardware [16] Hand Tools\n",
      "Tools Hardware [5] Power Tools\n",
      "Tools Hardware [29] Gardening Tools\n",
      "Tools Hardware [21] Hardware\n",
      "Tools Hardware [43] Other Tools & Hardware\n",
      "Electronics [47] Computing\n",
      "Electronics [45] Entertainment\n",
      "Electronics [9] Communications\n",
      "Electronics [49] Other Electronics\n",
      "Personal Care Items [52] Hygiene\n",
      "Personal Care Items [14] Beauty\n",
      "Personal Care Items [48] Healthcare\n",
      "Personal Care Items [22] Other Personal Care Items\n",
      "Clothing Accessories [40] Clothing\n",
      "Clothing Accessories [43] Footwear\n",
      "Clothing Accessories [71] Accessories\n",
      "Clothing Accessories [7] Other Clothing & Accessories\n",
      "Office Supplies [149] Writing Instruments\n",
      "Office Supplies [58] Paper Products\n",
      "Office Supplies [35] Organizational Supplies\n",
      "Office Supplies [22] Other Office Supplies\n",
      "Other [380] Miscellaneous\n",
      "Objects [1291] Food Items\n",
      "Objects [2234] Household Items\n",
      "Objects [114] Tools Hardware\n",
      "Objects [150] Electronics\n",
      "Objects [136] Personal Care Items\n",
      "Objects [161] Clothing Accessories\n",
      "Objects [264] Office Supplies\n",
      "Objects [380] Other\n"
     ]
    }
   ],
   "source": [
    "for source, target, value in fullhierarchy:\n",
    "    # source_cnt = scene_count_per_type[source]\n",
    "    # source_str = f\"{source.title()} ({source_cnt})\"\n",
    "    # target_cnt = total_value_per_room_type[target]\n",
    "    # target_str = f\"{target.title()} ({target_cnt})\"\n",
    "    source_str = source.replace(\"_\", \" \").title()\n",
    "    target_str = target.replace(\"_\", \" \").title()\n",
    "    print(f'{source_str} [{value}] {target_str}')"
   ]
  },
  {
   "cell_type": "code",
   "execution_count": null,
   "id": "c3c59a1b",
   "metadata": {},
   "outputs": [],
   "source": []
  }
 ],
 "metadata": {
  "kernelspec": {
   "display_name": "Python 3 (ipykernel)",
   "language": "python",
   "name": "python3"
  },
  "language_info": {
   "codemirror_mode": {
    "name": "ipython",
    "version": 3
   },
   "file_extension": ".py",
   "mimetype": "text/x-python",
   "name": "python",
   "nbconvert_exporter": "python",
   "pygments_lexer": "ipython3",
   "version": "3.10.0"
  }
 },
 "nbformat": 4,
 "nbformat_minor": 5
}
